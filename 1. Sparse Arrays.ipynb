{
 "cells": [
  {
   "cell_type": "code",
   "execution_count": 9,
   "metadata": {},
   "outputs": [
    {
     "name": "stdout",
     "output_type": "stream",
     "text": [
      "Enter the total number of strings: 4\n",
      "Enter the total number of queries: 3\n",
      "Enter a string: aba\n",
      "Enter a string: baba\n",
      "Enter a string: xzxb\n",
      "Enter a string: aba\n",
      "Enter a query: aba\n",
      "Enter a query: xzxb\n",
      "Enter a query: ab\n",
      "[2, 1, 0]\n"
     ]
    }
   ],
   "source": [
    "def matchingStrings(strings, queries):\n",
    "    count_list = []\n",
    "    count = 0\n",
    "    for i in queries:\n",
    "        for j in strings:\n",
    "            if i == j:\n",
    "                count += 1\n",
    "        count_list.append(count)\n",
    "        count = 0\n",
    "    return count_list\n",
    "\n",
    "num_str = int(input(\"Enter the total number of strings: \"))\n",
    "num_que = int(input(\"Enter the total number of queries: \"))\n",
    "\n",
    "strings = []\n",
    "queries = []\n",
    "\n",
    "for i in range(num_str):\n",
    "    strings.append(input(\"Enter a string: \"))\n",
    "    \n",
    "for i in range(num_que):\n",
    "    queries.append(input(\"Enter a query: \"))\n",
    "\n",
    "count_list = matchingStrings(strings, queries)\n",
    "print(count_list)"
   ]
  },
  {
   "cell_type": "code",
   "execution_count": null,
   "metadata": {},
   "outputs": [],
   "source": []
  }
 ],
 "metadata": {
  "kernelspec": {
   "display_name": "Python 3",
   "language": "python",
   "name": "python3"
  },
  "language_info": {
   "codemirror_mode": {
    "name": "ipython",
    "version": 3
   },
   "file_extension": ".py",
   "mimetype": "text/x-python",
   "name": "python",
   "nbconvert_exporter": "python",
   "pygments_lexer": "ipython3",
   "version": "3.7.1"
  }
 },
 "nbformat": 4,
 "nbformat_minor": 2
}
