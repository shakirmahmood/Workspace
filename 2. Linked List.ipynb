{
 "cells": [
  {
   "cell_type": "code",
   "execution_count": 6,
   "metadata": {},
   "outputs": [
    {
     "name": "stdout",
     "output_type": "stream",
     "text": [
      "1\n"
     ]
    }
   ],
   "source": [
    "def traverse(self, store):\n",
    "    if self == None:\n",
    "        print(\"0\")\n",
    "        return\n",
    "    if hex(id(self)) in store:\n",
    "        print(\"1\")\n",
    "        return\n",
    "    store.append(hex(id(self)))\n",
    "    traverse(self.next, store)\n",
    "\n",
    "class Node:\n",
    "    def __init__(self, Data):\n",
    "        self.next = None\n",
    "        self.previous = None\n",
    "        self.data = Data        \n",
    "        \n",
    "head = Node(1)\n",
    "node2 = head.next = Node(2)\n",
    "node3 = node2.next = Node(3)\n",
    "node4 = node3.next = Node(4)\n",
    "node4.next = node3\n",
    "traverse(head,[])\n",
    "\n"
   ]
  },
  {
   "cell_type": "code",
   "execution_count": null,
   "metadata": {},
   "outputs": [],
   "source": []
  },
  {
   "cell_type": "code",
   "execution_count": null,
   "metadata": {},
   "outputs": [],
   "source": []
  }
 ],
 "metadata": {
  "kernelspec": {
   "display_name": "Python 3",
   "language": "python",
   "name": "python3"
  },
  "language_info": {
   "codemirror_mode": {
    "name": "ipython",
    "version": 3
   },
   "file_extension": ".py",
   "mimetype": "text/x-python",
   "name": "python",
   "nbconvert_exporter": "python",
   "pygments_lexer": "ipython3",
   "version": "3.7.1"
  }
 },
 "nbformat": 4,
 "nbformat_minor": 2
}
